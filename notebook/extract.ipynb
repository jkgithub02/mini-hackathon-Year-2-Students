{
 "cells": [
  {
   "cell_type": "code",
   "execution_count": 27,
   "metadata": {},
   "outputs": [
    {
     "name": "stdout",
     "output_type": "stream",
     "text": [
      "Financial report generated and saved to financial_report_maxis_2023.txt\n"
     ]
    }
   ],
   "source": [
    "import PyPDF2\n",
    "import re\n",
    "\n",
    "def extract_key_value_pairs(filename):\n",
    "    \"\"\"\n",
    "    Extracts key-value pairs from the sample output PDF, ensuring \n",
    "    each key-value pair is on a separate line.\n",
    "    \"\"\"\n",
    "    key_value_pairs = {}\n",
    "    with open(filename, 'rb') as f:\n",
    "        reader = PyPDF2.PdfReader(f)\n",
    "        for page in reader.pages:\n",
    "            text = page.extract_text()\n",
    "            # Split the text using a more flexible regex\n",
    "            items = re.findall(r'([a-zA-ZÀ-ÿ\\s\\(\\)]+)\\s+([0-9,\\(\\).]+)', text)  \n",
    "            for key, value in items:\n",
    "                key_value_pairs[key.strip()] = value.strip()\n",
    "    return key_value_pairs\n",
    "\n",
    "def extract_text_from_pdf(filename):\n",
    "    \"\"\"\n",
    "    Extracts all text content from a PDF file.\n",
    "    \"\"\"\n",
    "    text = \"\"\n",
    "    with open(filename, 'rb') as f:\n",
    "        reader = PyPDF2.PdfReader(f)\n",
    "        for page in reader.pages:\n",
    "            text += page.extract_text()\n",
    "    return text\n",
    "\n",
    "def extract_financial_data(format_data, input_text):\n",
    "    \"\"\"\n",
    "    Extracts financial data from the input text based on the provided format.\n",
    "    \"\"\"\n",
    "    output_data = format_data.copy()\n",
    "\n",
    "    for key in output_data:\n",
    "        # More robust regex to handle variations in formatting\n",
    "        pattern = rf\"({key})\\s*[\\w\\s:-]*([\\d,.]+)\\b\"\n",
    "        matches = re.findall(pattern, input_text, re.IGNORECASE)\n",
    "\n",
    "        if matches:\n",
    "            # Handle potential multiple matches (take the last one for now)\n",
    "            value = matches[-1][1]\n",
    "            # Remove commas and convert to numeric if possible\n",
    "            try:\n",
    "                value = float(value.replace(\",\", \"\"))\n",
    "            except ValueError:\n",
    "                pass\n",
    "            output_data[key] = value\n",
    "    return output_data\n",
    "\n",
    "def write_output_to_txt(data, filename):\n",
    "    \"\"\"\n",
    "    Writes the extracted data to a text file in a nicely formatted list.\n",
    "    \"\"\"\n",
    "    with open(filename, 'w', encoding='utf-8') as f:\n",
    "        for key, value in data.items():\n",
    "            try:\n",
    "                # Nicer formatting with aligned values\n",
    "                f.write(f\"{key:<50} {value:>15}\\n\")  \n",
    "            except UnicodeEncodeError:\n",
    "                # Replace or remove problematic characters if necessary\n",
    "                encoded_value = value.encode('utf-8', errors='replace').decode('utf-8')\n",
    "                f.write(f\"{key:<50} {encoded_value:>15}\\n\")\n",
    "\n",
    "# --- Main execution ---\n",
    "if __name__ == \"__main__\":\n",
    "    format_file = \"sample-output-company-cepat-kaya.pdf\"\n",
    "    input_file = \"maxis-2023.pdf\"\n",
    "    output_file = \"financial_report_maxis_2023.txt\"\n",
    "\n",
    "    format_data = extract_key_value_pairs(format_file)\n",
    "    input_text = extract_text_from_pdf(input_file)\n",
    "    extracted_data = extract_financial_data(format_data, input_text)\n",
    "    write_output_to_txt(extracted_data, output_file)\n",
    "\n",
    "    print(f\"Financial report generated and saved to {output_file}\")"
   ]
  },
  {
   "cell_type": "code",
   "execution_count": null,
   "metadata": {},
   "outputs": [],
   "source": []
  }
 ],
 "metadata": {
  "kernelspec": {
   "display_name": "Python 3",
   "language": "python",
   "name": "python3"
  },
  "language_info": {
   "codemirror_mode": {
    "name": "ipython",
    "version": 3
   },
   "file_extension": ".py",
   "mimetype": "text/x-python",
   "name": "python",
   "nbconvert_exporter": "python",
   "pygments_lexer": "ipython3",
   "version": "3.12.6"
  }
 },
 "nbformat": 4,
 "nbformat_minor": 2
}
